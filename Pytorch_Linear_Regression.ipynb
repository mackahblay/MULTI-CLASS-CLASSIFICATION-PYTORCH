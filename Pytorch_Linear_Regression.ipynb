{
  "nbformat": 4,
  "nbformat_minor": 0,
  "metadata": {
    "colab": {
      "provenance": [],
      "gpuType": "T4"
    },
    "kernelspec": {
      "name": "python3",
      "display_name": "Python 3"
    },
    "language_info": {
      "name": "python"
    },
    "accelerator": "GPU"
  },
  "cells": [
    {
      "cell_type": "code",
      "execution_count": 237,
      "metadata": {
        "id": "-qnjnLtmdqxR"
      },
      "outputs": [],
      "source": [
        "import pandas as pd\n",
        "import numpy as np\n",
        "import matplotlib.pyplot as plt\n",
        "import seaborn as sns\n",
        "import torch\n",
        "from torch import nn"
      ]
    },
    {
      "cell_type": "code",
      "source": [
        "weight = 0.7\n",
        "bias = 0.3"
      ],
      "metadata": {
        "id": "MkzaLT9Pds52"
      },
      "execution_count": 238,
      "outputs": []
    },
    {
      "cell_type": "code",
      "source": [
        "start = 0\n",
        "end = 1\n",
        "step = 0.02"
      ],
      "metadata": {
        "id": "ncyCUf6qds1j"
      },
      "execution_count": 239,
      "outputs": []
    },
    {
      "cell_type": "code",
      "source": [
        "X = torch.arange(start, end, step).unsqueeze(dim = 1)\n",
        "y = weight * X + bias"
      ],
      "metadata": {
        "id": "US-63hD4dsyc"
      },
      "execution_count": 240,
      "outputs": []
    },
    {
      "cell_type": "code",
      "source": [
        "X[:5], y[:5]"
      ],
      "metadata": {
        "colab": {
          "base_uri": "https://localhost:8080/"
        },
        "id": "th-Kv7podsvV",
        "outputId": "4dac3527-872f-4517-a008-ffcbd8c17e55"
      },
      "execution_count": 241,
      "outputs": [
        {
          "output_type": "execute_result",
          "data": {
            "text/plain": [
              "(tensor([[0.0000],\n",
              "         [0.0200],\n",
              "         [0.0400],\n",
              "         [0.0600],\n",
              "         [0.0800]]),\n",
              " tensor([[0.3000],\n",
              "         [0.3140],\n",
              "         [0.3280],\n",
              "         [0.3420],\n",
              "         [0.3560]]))"
            ]
          },
          "metadata": {},
          "execution_count": 241
        }
      ]
    },
    {
      "cell_type": "code",
      "source": [
        "device = \"cuda\" if torch.cuda.is_available() else \"cpu\"\n",
        "device"
      ],
      "metadata": {
        "colab": {
          "base_uri": "https://localhost:8080/",
          "height": 36
        },
        "id": "HSOZfcvQdstT",
        "outputId": "2fa29cf4-8640-40d1-f24b-ed481cca2738"
      },
      "execution_count": 242,
      "outputs": [
        {
          "output_type": "execute_result",
          "data": {
            "text/plain": [
              "'cuda'"
            ],
            "application/vnd.google.colaboratory.intrinsic+json": {
              "type": "string"
            }
          },
          "metadata": {},
          "execution_count": 242
        }
      ]
    },
    {
      "cell_type": "code",
      "source": [
        "train_split = int(len(X) * 0.8)"
      ],
      "metadata": {
        "id": "A9YOv3Y2dsnx"
      },
      "execution_count": 243,
      "outputs": []
    },
    {
      "cell_type": "code",
      "source": [
        "X_train, y_train = X[:train_split], y[:train_split]\n",
        "X_test, y_test = X[train_split:], y[train_split:]\n",
        "len(X_train), len(y_train), len(X_test), len(y_test)"
      ],
      "metadata": {
        "colab": {
          "base_uri": "https://localhost:8080/"
        },
        "id": "LKxY7A0bdskZ",
        "outputId": "af1ba138-e588-4014-964e-7f944887d5ff"
      },
      "execution_count": 244,
      "outputs": [
        {
          "output_type": "execute_result",
          "data": {
            "text/plain": [
              "(40, 40, 10, 10)"
            ]
          },
          "metadata": {},
          "execution_count": 244
        }
      ]
    },
    {
      "cell_type": "code",
      "source": [
        "def plot_predictions(train_data = X_train, train_labels = y_train, test_data = X_test, test_labels = y_test, predictions = None):\n",
        "  # training\n",
        "  plt.scatter(x = train_data, y = train_labels, s = 5, c = \"g\", label = \"Training\")\n",
        "  # testing\n",
        "  plt.scatter(x = test_data, y = test_labels, s = 5, c = \"b\",  label = \"Testing\")\n",
        "  #predictions\n",
        "  if predictions is not None:\n",
        "    plt.scatter(x = test_data, y = predictions, label = \"Predictions\", s = 5, c = \"r\")\n",
        "  plt.legend()"
      ],
      "metadata": {
        "id": "VUvn2djSdshB"
      },
      "execution_count": 245,
      "outputs": []
    },
    {
      "cell_type": "code",
      "source": [
        "plot_predictions(X_train, y_train, X_test, y_test)"
      ],
      "metadata": {
        "colab": {
          "base_uri": "https://localhost:8080/",
          "height": 430
        },
        "id": "UjVIFMeJdse-",
        "outputId": "45898ce6-555d-43a6-8417-02f8cadda760"
      },
      "execution_count": 246,
      "outputs": [
        {
          "output_type": "display_data",
          "data": {
            "text/plain": [
              "<Figure size 640x480 with 1 Axes>"
            ],
            "image/png": "[encoded data removed]"
          },
          "metadata": {}
        }
      ]
    },
    {
      "cell_type": "code",
      "source": [
        "# linear regression model\n",
        "class LinearModel(nn.Module):\n",
        "  def __init__(self):\n",
        "    super().__init__()\n",
        "    self.layer = nn.Linear(in_features = 1, out_features = 1)\n",
        "\n",
        "  def forward(self, x:torch.Tensor) -> torch.Tensor:\n",
        "    return self.layer(x)\n"
      ],
      "metadata": {
        "id": "us1-Y0DWdsdX"
      },
      "execution_count": 247,
      "outputs": []
    },
    {
      "cell_type": "code",
      "source": [
        "# model instance\n",
        "torch.manual_seed(70)\n",
        "model =LinearModel()\n",
        "model, model.state_dict()"
      ],
      "metadata": {
        "colab": {
          "base_uri": "https://localhost:8080/"
        },
        "id": "q_Pz-7IMdsbh",
        "outputId": "86dc01dc-2e1f-4451-a27c-ca788bb6566e"
      },
      "execution_count": 248,
      "outputs": [
        {
          "output_type": "execute_result",
          "data": {
            "text/plain": [
              "(LinearModel(\n",
              "   (layer): Linear(in_features=1, out_features=1, bias=True)\n",
              " ),\n",
              " OrderedDict([('layer.weight', tensor([[-0.1300]])),\n",
              "              ('layer.bias', tensor([-0.2817]))]))"
            ]
          },
          "metadata": {},
          "execution_count": 248
        }
      ]
    },
    {
      "cell_type": "code",
      "source": [
        "next(model.parameters()).device"
      ],
      "metadata": {
        "colab": {
          "base_uri": "https://localhost:8080/"
        },
        "id": "9D9xbIUodsZs",
        "outputId": "faf1fb7e-8fe3-4360-9ac7-e2a54a31b2db"
      },
      "execution_count": 249,
      "outputs": [
        {
          "output_type": "execute_result",
          "data": {
            "text/plain": [
              "device(type='cpu')"
            ]
          },
          "metadata": {},
          "execution_count": 249
        }
      ]
    },
    {
      "cell_type": "code",
      "source": [
        "# put model on GPU\n",
        "model = model.to(device)"
      ],
      "metadata": {
        "id": "j1ZyCCE0dsX5"
      },
      "execution_count": 250,
      "outputs": []
    },
    {
      "cell_type": "code",
      "source": [
        "# create optimizer and loss function\n",
        "loss_function = nn.L1Loss()\n",
        "optimizer = torch.optim.SGD(params = model.parameters(), lr = 0.01)\n",
        "\n",
        "# set manual seed\n",
        "#torch.manual_seed(70)\n",
        "\n",
        "# set epochs\n",
        "epochs = 1000\n",
        "\n",
        "# put everything on GPU\n",
        "X_train, y_train, X_test, y_test = X_train.to(device), y_train.to(device), X_test.to(device), y_test.to(device)"
      ],
      "metadata": {
        "id": "Eq3EoiGqdsUQ"
      },
      "execution_count": 251,
      "outputs": []
    },
    {
      "cell_type": "code",
      "source": [
        "# train the model\n",
        "torch.manual_seed(70)\n",
        "for epoch in range (epochs):\n",
        "  model.train()\n",
        "  predictions = model(X_train)\n",
        "  loss = loss_function(predictions, y_train)\n",
        "  optimizer.zero_grad()\n",
        "  loss.backward()\n",
        "  optimizer.step()\n",
        "  model.eval()\n",
        "  with torch.inference_mode():\n",
        "    test_predictions = model(X_test)\n",
        "    test_loss = loss_function(test_predictions, y_test)\n",
        "  if epoch % 100 == 0:\n",
        "    print(f'epoch: {epoch}   |    loss: {loss}      | test loss: {test_loss}')\n"
      ],
      "metadata": {
        "colab": {
          "base_uri": "https://localhost:8080/"
        },
        "id": "_KTx8aoOdsQa",
        "outputId": "afed2a55-da74-49e4-a93a-3e15a02b2660"
      },
      "execution_count": 252,
      "outputs": [
        {
          "output_type": "stream",
          "name": "stdout",
          "text": [
            "epoch: 0   |    loss: 0.9053991436958313      | test loss: 1.306910753250122\n",
            "epoch: 100   |    loss: 0.09480419754981995      | test loss: 0.24515075981616974\n",
            "epoch: 200   |    loss: 0.058811839669942856      | test loss: 0.13654612004756927\n",
            "epoch: 300   |    loss: 0.024471886456012726      | test loss: 0.056568242609500885\n",
            "epoch: 400   |    loss: 0.003993944730609655      | test loss: 0.01177891530096531\n",
            "epoch: 500   |    loss: 0.003993944730609655      | test loss: 0.01177891530096531\n",
            "epoch: 600   |    loss: 0.003993944730609655      | test loss: 0.01177891530096531\n",
            "epoch: 700   |    loss: 0.003993944730609655      | test loss: 0.01177891530096531\n",
            "epoch: 800   |    loss: 0.003993944730609655      | test loss: 0.01177891530096531\n",
            "epoch: 900   |    loss: 0.003993944730609655      | test loss: 0.01177891530096531\n"
          ]
        }
      ]
    },
    {
      "cell_type": "code",
      "source": [
        "# importing pretty print\n",
        "from pprint import pprint\n",
        "\n",
        "# predictions for parameter values\n",
        "pprint(f'predicted values: {model.state_dict()}\\n')\n",
        "\n",
        "# original values\n",
        "print(f'original values: weight: {weight}  bias: {bias}')"
      ],
      "metadata": {
        "colab": {
          "base_uri": "https://localhost:8080/"
        },
        "id": "KXnvVlXjdsOg",
        "outputId": "891d5758-b848-49d0-cb93-d28dc6328732"
      },
      "execution_count": 253,
      "outputs": [
        {
          "output_type": "stream",
          "name": "stdout",
          "text": [
            "(\"predicted values: OrderedDict([('layer.weight', tensor([[0.6954]], \"\n",
            " \"device='cuda:0')), ('layer.bias', tensor([0.3058], device='cuda:0'))])\\n\")\n",
            "original values: weight: 0.7  bias: 0.3\n"
          ]
        }
      ]
    },
    {
      "cell_type": "code",
      "source": [
        "model.eval()"
      ],
      "metadata": {
        "colab": {
          "base_uri": "https://localhost:8080/"
        },
        "id": "SSoJR2_ydsMs",
        "outputId": "bdfd0d5e-2cf3-4f24-eca7-cadeb1fdcf63"
      },
      "execution_count": 254,
      "outputs": [
        {
          "output_type": "execute_result",
          "data": {
            "text/plain": [
              "LinearModel(\n",
              "  (layer): Linear(in_features=1, out_features=1, bias=True)\n",
              ")"
            ]
          },
          "metadata": {},
          "execution_count": 254
        }
      ]
    },
    {
      "cell_type": "code",
      "source": [
        "# evaluate the model\n",
        "with torch.inference_mode():\n",
        "  preds = model(X_test)\n",
        "preds\n"
      ],
      "metadata": {
        "colab": {
          "base_uri": "https://localhost:8080/"
        },
        "id": "3ekJ7eCWdsJL",
        "outputId": "230a8d03-5ea3-4217-fed9-a5c466a67152"
      },
      "execution_count": 255,
      "outputs": [
        {
          "output_type": "execute_result",
          "data": {
            "text/plain": [
              "tensor([[0.8621],\n",
              "        [0.8760],\n",
              "        [0.8899],\n",
              "        [0.9038],\n",
              "        [0.9177],\n",
              "        [0.9316],\n",
              "        [0.9456],\n",
              "        [0.9595],\n",
              "        [0.9734],\n",
              "        [0.9873]], device='cuda:0')"
            ]
          },
          "metadata": {},
          "execution_count": 255
        }
      ]
    },
    {
      "cell_type": "code",
      "source": [
        "# show predictions\n",
        "\n",
        "plot_predictions(predictions = preds.cpu())"
      ],
      "metadata": {
        "colab": {
          "base_uri": "https://localhost:8080/",
          "height": 430
        },
        "id": "8OxCSC_RtQvl",
        "outputId": "c8445151-d57c-42ad-8b42-c66d2f199824"
      },
      "execution_count": 256,
      "outputs": [
        {
          "output_type": "display_data",
          "data": {
            "text/plain": [
              "<Figure size 640x480 with 1 Axes>"
            ],
            "image/png": "[encoded data removed]"
          },
          "metadata": {}
        }
      ]
    },
    {
      "cell_type": "code",
      "source": [
        "#saving model\n",
        "\n",
        "from pathlib import Path\n",
        "import torch\n",
        "\n",
        "# Define the directory and filename\n",
        "MODEL_PATH = Path('linear')\n",
        "MODEL_NAME = 'linregression.pth'\n",
        "\n",
        "# Combine the directory and filename to create the full path\n",
        "MODEL_SAVE_PATH = MODEL_PATH / MODEL_NAME\n",
        "print(f'Saving to {MODEL_SAVE_PATH}\\n')\n",
        "\n",
        "# Save the model's state_dict\n",
        "torch.save(model.state_dict(), MODEL_SAVE_PATH)\n"
      ],
      "metadata": {
        "id": "F9ZItGpxvTl4",
        "outputId": "a0efef31-e4df-4c26-e88f-a63f22efcd45",
        "colab": {
          "base_uri": "https://localhost:8080/"
        }
      },
      "execution_count": 260,
      "outputs": [
        {
          "output_type": "stream",
          "name": "stdout",
          "text": [
            "Saving to linear/linregression.pth\n",
            "\n"
          ]
        }
      ]
    },
    {
      "cell_type": "code",
      "source": [
        "# laoding the saved model\n",
        "\n",
        "loaded = LinearModel()\n",
        "loaded.load_state_dict(torch.load(MODEL_SAVE_PATH))\n",
        "loaded.to(device)\n",
        "with torch.inference_mode():\n",
        "  loaded_preds = loaded(X_test)\n",
        "predictions = loaded_preds\n",
        "plot_predictions(predictions = predictions.cpu())"
      ],
      "metadata": {
        "id": "LFeGK7pGvi9w",
        "outputId": "c3fd4cce-480a-408c-e0a8-9a893fcd1300",
        "colab": {
          "base_uri": "https://localhost:8080/",
          "height": 430
        }
      },
      "execution_count": 262,
      "outputs": [
        {
          "output_type": "display_data",
          "data": {
            "text/plain": [
              "<Figure size 640x480 with 1 Axes>"
            ],
            "image/png": "[encoded data removed]"
          },
          "metadata": {}
        }
      ]
    }
  ]
}